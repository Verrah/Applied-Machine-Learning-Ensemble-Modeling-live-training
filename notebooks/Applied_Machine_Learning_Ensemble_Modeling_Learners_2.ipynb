{
  "nbformat": 4,
  "nbformat_minor": 0,
  "metadata": {
    "colab": {
      "name": "python_live_session_template.ipynb",
      "provenance": []
    },
    "kernelspec": {
      "display_name": "Python 3",
      "language": "python",
      "name": "python3"
    },
    "language_info": {
      "codemirror_mode": {
        "name": "ipython",
        "version": 3
      },
      "file_extension": ".py",
      "mimetype": "text/x-python",
      "name": "python",
      "nbconvert_exporter": "python",
      "pygments_lexer": "ipython3",
      "version": "3.7.1"
    }
  },
  "cells": [
    {
      "cell_type": "markdown",
      "metadata": {
        "colab_type": "text",
        "id": "6Ijg5wUCTQYG"
      },
      "source": [
        "<p align=\"center\">\n",
        "<img src=\"https://github.com/datacamp/python-live-training-template/blob/master/assets/datacamp.svg?raw=True\" alt = \"DataCamp icon\" width=\"50%\">\n",
        "</p>\n",
        "<br><br>\n",
        "\n",
        "\n",
        "## **Applied Machine Learning - Ensemble Modeling Live Training**\n",
        "\n",
        "Welcome to this hands-on training where you will immerse yourself in applied machine learning in Python where we'll explore model stacking. Using `sklearn.ensemble`, we'll learn how to create layers that are stacking-ready.\n",
        "\n",
        "The foundations of model stacking:\n",
        "\n",
        "* Create various types of baseline models, including linear and logistic regression using Scikit-Learn, for comparison to ensemble methods.\n",
        "* Build layers, then stack them up.\n",
        "* Calculate and visualize performance metrics.\n",
        "\n",
        "\n",
        "\n",
        "---\n",
        "\n",
        "\n",
        "\n",
        "## **1st Dataset**\n",
        "\n",
        "\n",
        "The first dataset we'll use is a CSV file named `pima-indians-diabetes.csv`, which contains data on females of Pima Indian heritage that are at least 21 years old. It contains the following columns:\n",
        "\n",
        "- `n_preg`: Number of pregnancies\n",
        "- `pl_glucose`: Plasma glucose concentration 2 hours after an oral glucose tolerance test\n",
        "- `dia_bp`: Diastolic blood pressure (mm Hg)\n",
        "- `tri_thick`: Triceps skin fold thickness (mm)\n",
        "- `serum_ins`: 2-Hour serum insulin (mu U/ml)\n",
        "- `bmi`: Body mass index (weight in kg/(height in m)^2)\n",
        "- `diab_ped`: Diabetes pedigree function\n",
        "- `age`: Age (years)\n",
        "- `class`: Class variable (0 or 1)\n"
      ]
    },
    {
      "cell_type": "code",
      "metadata": {
        "colab_type": "code",
        "id": "EMQfyC7GUNhT",
        "colab": {
          "base_uri": "https://localhost:8080/",
          "height": 50
        },
        "outputId": "a416aa3c-b1b3-49c1-a24d-173a60e0f647"
      },
      "source": [
        "# Import libraries\n",
        "import pandas as pd\n",
        "import numpy as np\n",
        "from numpy import mean\n",
        "from numpy import std\n",
        "import matplotlib.pyplot as plt\n",
        "import seaborn as sns\n",
        "from collections import Counter\n",
        "from sklearn.preprocessing import LabelEncoder\n",
        "from sklearn.model_selection import cross_val_score\n",
        "from sklearn.model_selection import RepeatedStratifiedKFold\n",
        "from sklearn.dummy import DummyClassifier\n",
        "from sklearn.tree import DecisionTreeClassifier"
      ],
      "execution_count": 1,
      "outputs": [
        {
          "output_type": "stream",
          "text": [
            "/usr/local/lib/python3.6/dist-packages/statsmodels/tools/_testing.py:19: FutureWarning: pandas.util.testing is deprecated. Use the functions in the public API at pandas.testing instead.\n",
            "  import pandas.util.testing as tm\n"
          ],
          "name": "stderr"
        }
      ]
    },
    {
      "cell_type": "code",
      "metadata": {
        "colab_type": "code",
        "id": "l8t_EwRNZPLB",
        "colab": {}
      },
      "source": [
        "# Read in the dataset as Pandas DataFrame\n",
        "diabetes = pd.read_csv('https://github.com/datacamp/Applied-Machine-Learning-Ensemble-Modeling-live-training/blob/master/data/pima-indians-diabetes.csv?raw=true')"
      ],
      "execution_count": 2,
      "outputs": []
    },
    {
      "cell_type": "code",
      "metadata": {
        "id": "PRJPuinPZpGA",
        "colab_type": "code",
        "colab": {
          "base_uri": "https://localhost:8080/",
          "height": 286
        },
        "outputId": "38662a70-37a5-4863-8650-3264b3e9185c"
      },
      "source": [
        "# Look at data using the info() function\n",
        "diabetes.info()"
      ],
      "execution_count": 4,
      "outputs": [
        {
          "output_type": "stream",
          "text": [
            "<class 'pandas.core.frame.DataFrame'>\n",
            "RangeIndex: 768 entries, 0 to 767\n",
            "Data columns (total 9 columns):\n",
            " #   Column      Non-Null Count  Dtype  \n",
            "---  ------      --------------  -----  \n",
            " 0   n_preg      768 non-null    int64  \n",
            " 1   pl_glucose  768 non-null    int64  \n",
            " 2   dia_bp      768 non-null    int64  \n",
            " 3   tri_thick   768 non-null    int64  \n",
            " 4   serum_ins   768 non-null    int64  \n",
            " 5   bmi         768 non-null    float64\n",
            " 6   diab_ped    768 non-null    float64\n",
            " 7   age         768 non-null    int64  \n",
            " 8   class       768 non-null    int64  \n",
            "dtypes: float64(2), int64(7)\n",
            "memory usage: 54.1 KB\n"
          ],
          "name": "stdout"
        }
      ]
    },
    {
      "cell_type": "markdown",
      "metadata": {
        "id": "C6OVOkU80oKP",
        "colab_type": "text"
      },
      "source": [
        "## **Observations:** \n",
        "- The `info()` function is critical to beginning to understand your data.  Here, there are no missing values.  However, that is not typical.\n",
        "- There is a mixture of integers and floats with the first 5 columns being `int64`, the next 2 `float64` and the last 2 'int64`."
      ]
    },
    {
      "cell_type": "markdown",
      "metadata": {
        "id": "v3hAsYrhVi4L",
        "colab_type": "text"
      },
      "source": [
        "---\n",
        "\n",
        "## Q&A\n",
        "\n",
        "--- "
      ]
    },
    {
      "cell_type": "code",
      "metadata": {
        "id": "E6UtlpG_Zo50",
        "colab_type": "code",
        "colab": {
          "base_uri": "https://localhost:8080/",
          "height": 284
        },
        "outputId": "c4b8339e-62bc-4bc6-cb94-b2eae4870953"
      },
      "source": [
        "# Look at data using the describe() function\n",
        "diabetes.describe()"
      ],
      "execution_count": 5,
      "outputs": [
        {
          "output_type": "execute_result",
          "data": {
            "text/html": [
              "<div>\n",
              "<style scoped>\n",
              "    .dataframe tbody tr th:only-of-type {\n",
              "        vertical-align: middle;\n",
              "    }\n",
              "\n",
              "    .dataframe tbody tr th {\n",
              "        vertical-align: top;\n",
              "    }\n",
              "\n",
              "    .dataframe thead th {\n",
              "        text-align: right;\n",
              "    }\n",
              "</style>\n",
              "<table border=\"1\" class=\"dataframe\">\n",
              "  <thead>\n",
              "    <tr style=\"text-align: right;\">\n",
              "      <th></th>\n",
              "      <th>n_preg</th>\n",
              "      <th>pl_glucose</th>\n",
              "      <th>dia_bp</th>\n",
              "      <th>tri_thick</th>\n",
              "      <th>serum_ins</th>\n",
              "      <th>bmi</th>\n",
              "      <th>diab_ped</th>\n",
              "      <th>age</th>\n",
              "      <th>class</th>\n",
              "    </tr>\n",
              "  </thead>\n",
              "  <tbody>\n",
              "    <tr>\n",
              "      <th>count</th>\n",
              "      <td>768.000000</td>\n",
              "      <td>768.000000</td>\n",
              "      <td>768.000000</td>\n",
              "      <td>768.000000</td>\n",
              "      <td>768.000000</td>\n",
              "      <td>768.000000</td>\n",
              "      <td>768.000000</td>\n",
              "      <td>768.000000</td>\n",
              "      <td>768.000000</td>\n",
              "    </tr>\n",
              "    <tr>\n",
              "      <th>mean</th>\n",
              "      <td>3.845052</td>\n",
              "      <td>120.894531</td>\n",
              "      <td>69.105469</td>\n",
              "      <td>20.536458</td>\n",
              "      <td>79.799479</td>\n",
              "      <td>31.992578</td>\n",
              "      <td>0.471876</td>\n",
              "      <td>33.240885</td>\n",
              "      <td>0.348958</td>\n",
              "    </tr>\n",
              "    <tr>\n",
              "      <th>std</th>\n",
              "      <td>3.369578</td>\n",
              "      <td>31.972618</td>\n",
              "      <td>19.355807</td>\n",
              "      <td>15.952218</td>\n",
              "      <td>115.244002</td>\n",
              "      <td>7.884160</td>\n",
              "      <td>0.331329</td>\n",
              "      <td>11.760232</td>\n",
              "      <td>0.476951</td>\n",
              "    </tr>\n",
              "    <tr>\n",
              "      <th>min</th>\n",
              "      <td>0.000000</td>\n",
              "      <td>0.000000</td>\n",
              "      <td>0.000000</td>\n",
              "      <td>0.000000</td>\n",
              "      <td>0.000000</td>\n",
              "      <td>0.000000</td>\n",
              "      <td>0.078000</td>\n",
              "      <td>21.000000</td>\n",
              "      <td>0.000000</td>\n",
              "    </tr>\n",
              "    <tr>\n",
              "      <th>25%</th>\n",
              "      <td>1.000000</td>\n",
              "      <td>99.000000</td>\n",
              "      <td>62.000000</td>\n",
              "      <td>0.000000</td>\n",
              "      <td>0.000000</td>\n",
              "      <td>27.300000</td>\n",
              "      <td>0.243750</td>\n",
              "      <td>24.000000</td>\n",
              "      <td>0.000000</td>\n",
              "    </tr>\n",
              "    <tr>\n",
              "      <th>50%</th>\n",
              "      <td>3.000000</td>\n",
              "      <td>117.000000</td>\n",
              "      <td>72.000000</td>\n",
              "      <td>23.000000</td>\n",
              "      <td>30.500000</td>\n",
              "      <td>32.000000</td>\n",
              "      <td>0.372500</td>\n",
              "      <td>29.000000</td>\n",
              "      <td>0.000000</td>\n",
              "    </tr>\n",
              "    <tr>\n",
              "      <th>75%</th>\n",
              "      <td>6.000000</td>\n",
              "      <td>140.250000</td>\n",
              "      <td>80.000000</td>\n",
              "      <td>32.000000</td>\n",
              "      <td>127.250000</td>\n",
              "      <td>36.600000</td>\n",
              "      <td>0.626250</td>\n",
              "      <td>41.000000</td>\n",
              "      <td>1.000000</td>\n",
              "    </tr>\n",
              "    <tr>\n",
              "      <th>max</th>\n",
              "      <td>17.000000</td>\n",
              "      <td>199.000000</td>\n",
              "      <td>122.000000</td>\n",
              "      <td>99.000000</td>\n",
              "      <td>846.000000</td>\n",
              "      <td>67.100000</td>\n",
              "      <td>2.420000</td>\n",
              "      <td>81.000000</td>\n",
              "      <td>1.000000</td>\n",
              "    </tr>\n",
              "  </tbody>\n",
              "</table>\n",
              "</div>"
            ],
            "text/plain": [
              "           n_preg  pl_glucose      dia_bp  ...    diab_ped         age       class\n",
              "count  768.000000  768.000000  768.000000  ...  768.000000  768.000000  768.000000\n",
              "mean     3.845052  120.894531   69.105469  ...    0.471876   33.240885    0.348958\n",
              "std      3.369578   31.972618   19.355807  ...    0.331329   11.760232    0.476951\n",
              "min      0.000000    0.000000    0.000000  ...    0.078000   21.000000    0.000000\n",
              "25%      1.000000   99.000000   62.000000  ...    0.243750   24.000000    0.000000\n",
              "50%      3.000000  117.000000   72.000000  ...    0.372500   29.000000    0.000000\n",
              "75%      6.000000  140.250000   80.000000  ...    0.626250   41.000000    1.000000\n",
              "max     17.000000  199.000000  122.000000  ...    2.420000   81.000000    1.000000\n",
              "\n",
              "[8 rows x 9 columns]"
            ]
          },
          "metadata": {
            "tags": []
          },
          "execution_count": 5
        }
      ]
    },
    {
      "cell_type": "markdown",
      "metadata": {
        "id": "bCK9W_gk1HG8",
        "colab_type": "text"
      },
      "source": [
        "\n",
        "## **Observations:** \n",
        "- The `.describe()` function gives the summary statistics of the data.  Notice that the min of the 1st six columns is zero.  Even though there are no missing values, this is indicative of the measurements for those features having not been captured.\n",
        "- Although we previously saw there is a mixture of integer and float data types (as seen with `.info()`), the printout makes it appear as if all values are float.  "
      ]
    },
    {
      "cell_type": "code",
      "metadata": {
        "id": "UE5F_JUQ2X-0",
        "colab_type": "code",
        "colab": {
          "base_uri": "https://localhost:8080/",
          "height": 195
        },
        "outputId": "63c83fdf-c4cb-4546-fdda-d09d96175a3e"
      },
      "source": [
        "# Print the first 5 rows of the data using the head() function\n",
        "diabetes.head()"
      ],
      "execution_count": 6,
      "outputs": [
        {
          "output_type": "execute_result",
          "data": {
            "text/html": [
              "<div>\n",
              "<style scoped>\n",
              "    .dataframe tbody tr th:only-of-type {\n",
              "        vertical-align: middle;\n",
              "    }\n",
              "\n",
              "    .dataframe tbody tr th {\n",
              "        vertical-align: top;\n",
              "    }\n",
              "\n",
              "    .dataframe thead th {\n",
              "        text-align: right;\n",
              "    }\n",
              "</style>\n",
              "<table border=\"1\" class=\"dataframe\">\n",
              "  <thead>\n",
              "    <tr style=\"text-align: right;\">\n",
              "      <th></th>\n",
              "      <th>n_preg</th>\n",
              "      <th>pl_glucose</th>\n",
              "      <th>dia_bp</th>\n",
              "      <th>tri_thick</th>\n",
              "      <th>serum_ins</th>\n",
              "      <th>bmi</th>\n",
              "      <th>diab_ped</th>\n",
              "      <th>age</th>\n",
              "      <th>class</th>\n",
              "    </tr>\n",
              "  </thead>\n",
              "  <tbody>\n",
              "    <tr>\n",
              "      <th>0</th>\n",
              "      <td>6</td>\n",
              "      <td>148</td>\n",
              "      <td>72</td>\n",
              "      <td>35</td>\n",
              "      <td>0</td>\n",
              "      <td>33.6</td>\n",
              "      <td>0.627</td>\n",
              "      <td>50</td>\n",
              "      <td>1</td>\n",
              "    </tr>\n",
              "    <tr>\n",
              "      <th>1</th>\n",
              "      <td>1</td>\n",
              "      <td>85</td>\n",
              "      <td>66</td>\n",
              "      <td>29</td>\n",
              "      <td>0</td>\n",
              "      <td>26.6</td>\n",
              "      <td>0.351</td>\n",
              "      <td>31</td>\n",
              "      <td>0</td>\n",
              "    </tr>\n",
              "    <tr>\n",
              "      <th>2</th>\n",
              "      <td>8</td>\n",
              "      <td>183</td>\n",
              "      <td>64</td>\n",
              "      <td>0</td>\n",
              "      <td>0</td>\n",
              "      <td>23.3</td>\n",
              "      <td>0.672</td>\n",
              "      <td>32</td>\n",
              "      <td>1</td>\n",
              "    </tr>\n",
              "    <tr>\n",
              "      <th>3</th>\n",
              "      <td>1</td>\n",
              "      <td>89</td>\n",
              "      <td>66</td>\n",
              "      <td>23</td>\n",
              "      <td>94</td>\n",
              "      <td>28.1</td>\n",
              "      <td>0.167</td>\n",
              "      <td>21</td>\n",
              "      <td>0</td>\n",
              "    </tr>\n",
              "    <tr>\n",
              "      <th>4</th>\n",
              "      <td>0</td>\n",
              "      <td>137</td>\n",
              "      <td>40</td>\n",
              "      <td>35</td>\n",
              "      <td>168</td>\n",
              "      <td>43.1</td>\n",
              "      <td>2.288</td>\n",
              "      <td>33</td>\n",
              "      <td>1</td>\n",
              "    </tr>\n",
              "  </tbody>\n",
              "</table>\n",
              "</div>"
            ],
            "text/plain": [
              "   n_preg  pl_glucose  dia_bp  tri_thick  serum_ins   bmi  diab_ped  age  class\n",
              "0       6         148      72         35          0  33.6     0.627   50      1\n",
              "1       1          85      66         29          0  26.6     0.351   31      0\n",
              "2       8         183      64          0          0  23.3     0.672   32      1\n",
              "3       1          89      66         23         94  28.1     0.167   21      0\n",
              "4       0         137      40         35        168  43.1     2.288   33      1"
            ]
          },
          "metadata": {
            "tags": []
          },
          "execution_count": 6
        }
      ]
    },
    {
      "cell_type": "markdown",
      "metadata": {
        "id": "A2VCIx0K2bT1",
        "colab_type": "text"
      },
      "source": [
        "\n",
        "## **Observation:**\n",
        "- Printing out the first 5 rows, we see that the data types of the columns are indeed as stated previously."
      ]
    },
    {
      "cell_type": "markdown",
      "metadata": {
        "id": "ajAzhMDc2b1D",
        "colab_type": "text"
      },
      "source": [
        "## Let's check the number in each class:\n",
        "\n",
        "This avoids getting surprised by great results that are actually a side effect of class imbalance.  This happens when the majority class far outweighs the minority class."
      ]
    },
    {
      "cell_type": "code",
      "metadata": {
        "id": "MKeXN3441-9W",
        "colab_type": "code",
        "colab": {
          "base_uri": "https://localhost:8080/",
          "height": 34
        },
        "outputId": "a05c9c04-023a-4f63-e758-e04898b56c78"
      },
      "source": [
        "# Summarize class distribution\n",
        "target = diabetes['class']\n",
        "counter = Counter(target)\n",
        "print(counter)"
      ],
      "execution_count": 7,
      "outputs": [
        {
          "output_type": "stream",
          "text": [
            "Counter({0: 500, 1: 268})\n"
          ],
          "name": "stdout"
        }
      ]
    },
    {
      "cell_type": "markdown",
      "metadata": {
        "id": "FOpbGyQw55v3",
        "colab_type": "text"
      },
      "source": [
        "## **Observation:** For every two negative cases there is one positive case, not enough of a difference to be considered class imbalance.  \n",
        "- Class imbalance tends to exist when the majority class is > 90% although there is no hard and fast rule about this threshold."
      ]
    },
    {
      "cell_type": "code",
      "metadata": {
        "id": "n5XaYl9ZZ8B5",
        "colab_type": "code",
        "colab": {}
      },
      "source": [
        "# Convert Pandas DataFrame to numpy array - Return only the values of the DataFrame with DataFrame.to_numpy()\n",
        "diabetes = diabetes.to_numpy()"
      ],
      "execution_count": 3,
      "outputs": []
    },
    {
      "cell_type": "markdown",
      "metadata": {
        "id": "MlGa9IBc7Gsr",
        "colab_type": "text"
      },
      "source": [
        "### Always verify that your X matrix and target array have the same number of rows to avoid errors during model training."
      ]
    },
    {
      "cell_type": "code",
      "metadata": {
        "id": "9FEvD6Ab6InP",
        "colab_type": "code",
        "colab": {
          "base_uri": "https://localhost:8080/",
          "height": 34
        },
        "outputId": "0b408668-2eac-4e1f-b29a-5c4a6babace0"
      },
      "source": [
        "# Create X matrix and y (target) array using slicing [row_start:row_end, col_start:target_col],[row_start:row_end, target_col]\n",
        "X, y = diabetes[:, :-1], diabetes[:,-1]\n",
        "\n",
        "# Print X matrix and y (target) array dimensions using .shape \n",
        "print('Shape: %s, %s' % (X.shape, y.shape))"
      ],
      "execution_count": 4,
      "outputs": [
        {
          "output_type": "stream",
          "text": [
            "Shape: (768, 8), (768,)\n"
          ],
          "name": "stdout"
        }
      ]
    },
    {
      "cell_type": "code",
      "metadata": {
        "id": "hoI7t4U-Z8LU",
        "colab_type": "code",
        "colab": {}
      },
      "source": [
        "# Convert X matrix data types to 'float32' for consistency using .astype()\n",
        "X = X.astype('float32')\n",
        "\n",
        "# Convert y (target) array to 'str' using .astype()\n",
        "y = y.astype('str')\n",
        "\n",
        "# Encode class labels in y array using dot notation with LabelEncoder().fit_transform()\n",
        "# Hint: y goes in the fit_transform function call\n",
        "y = LabelEncoder().fit_transform(y)"
      ],
      "execution_count": 5,
      "outputs": []
    },
    {
      "cell_type": "markdown",
      "metadata": {
        "id": "djXWv2xp9v1q",
        "colab_type": "text"
      },
      "source": [
        "### Don't let the `.astype('str')` throw you!  This is simply taking the class labels and label encoding them – regardless of their original format.\n",
        "\n",
        "\n"
      ]
    },
    {
      "cell_type": "markdown",
      "metadata": {
        "id": "OHHu8uz7_yVa",
        "colab_type": "text"
      },
      "source": [
        "## **Creating a Naive Classifier**\n",
        "Here we'll use the `DummyClassifier` from `sklearn`.  This creates a so-called 'naive' classifer and is simply a model that predicts a single class for all of the rows, regardless of their original class.  \n",
        "\n",
        "1. `DummyClassifier()` arguments:\n",
        " - `strategy`: Strategy to use to generate predictions.\n",
        "\n",
        "2. `RepeatedStratifiedKFold()` arguments:\n",
        " - `n_splits`: Number of folds.\n",
        " - `n_repeats`: Number of times cross-validator needs to be repeated.\n",
        " - `random_state`: Controls the generation of the random states for each repetition. Pass an int for reproducible output across multiple function calls.  (This is an equivalent argument to np.random.seed above, but will be specific to this naive model.)\n",
        "\n",
        "3. `cross_val_score()` arguments:\n",
        " - The model to use.\n",
        " - The data to fit. (X)\n",
        " - The target variable to try to predict. (y)\n",
        " - `scoring`: A single string scorer callable object/function such as 'accuracy' or 'roc_auc'.  See https://scikit-learn.org/stable/modules/model_evaluation.html#scoring-parameter for more options.\n",
        " - `cv`: Cross-validation splitting strategy (default is 5)\n",
        " - `n_jobs`: Number of CPU cores used when parallelizing.  Set to -1 helps to avoid non-convergence errors.\n",
        " - `error_score`: Value to assign to the score if an error occurs in estimator fitting. If set to ‘raise’, the error is raised. If a numeric value is given, FitFailedWarning is raised."
      ]
    },
    {
      "cell_type": "code",
      "metadata": {
        "id": "BL4huFGPZ8RA",
        "colab_type": "code",
        "colab": {
          "base_uri": "https://localhost:8080/",
          "height": 34
        },
        "outputId": "d067b50b-edf8-48a2-d1d8-400820ea3514"
      },
      "source": [
        "# Evaluate naive\n",
        "\n",
        "# Instantiate a DummyClassifier with 'most_frequent' strategy\n",
        "naive = DummyClassifier(strategy='most_frequent')\n",
        "\n",
        "# Create RepeatedStratifiedKFold cross-validator with 10 folds, 3 repeats and a seed of 1.\n",
        "cv = RepeatedStratifiedKFold(n_splits=10, n_repeats=3, random_state=1)\n",
        "\n",
        "# Calculate accuracy using `cross_val_score()` with model instantiated, data to fit, target variable, 'accuracy' scoring, cross validator, n_jobs=-1, and error_score set to 'raise'\n",
        "n_scores = cross_val_score(naive, X, y, scoring='accuracy', cv=cv, n_jobs=1, error_score='raise')\n",
        "\n",
        "# Print mean and standard deviation of n_scores: \n",
        "print('Naive score: %.3f (%.3f)' % (mean(n_scores), std(n_scores)))\n"
      ],
      "execution_count": 11,
      "outputs": [
        {
          "output_type": "stream",
          "text": [
            "Naive score: 0.651 (0.003)\n"
          ],
          "name": "stdout"
        }
      ]
    },
    {
      "cell_type": "markdown",
      "metadata": {
        "id": "2tEgwsOfsoB6",
        "colab_type": "text"
      },
      "source": [
        "## **Observation** \n",
        "- We want to do better than 65% accuracy to consider any other models as an improvement to a totally naive model."
      ]
    },
    {
      "cell_type": "markdown",
      "metadata": {
        "id": "l8QZOyg8s1eQ",
        "colab_type": "text"
      },
      "source": [
        "## **Creating a Baseline Classifier**\n",
        "Now we'll create a baseline classifier, one that seeks to correctly predict the class that each observation belongs to.  Since the target variable is binary, we'll instantiate a `DecisionTreeClassifier` model. "
      ]
    },
    {
      "cell_type": "code",
      "metadata": {
        "id": "QczFUGSfbQvl",
        "colab_type": "code",
        "colab": {
          "base_uri": "https://localhost:8080/",
          "height": 34
        },
        "outputId": "764a3157-e390-4b77-833f-098f2d948a9f"
      },
      "source": [
        "# Evaluate baseline model\n",
        "\n",
        "# Instantiate a DecisionTreeClassifier\n",
        "model = DecisionTreeClassifier()\n",
        "\n",
        "# Calculate accuracy using `cross_val_score()` with model instantiated, data to fit, target variable, 'accuracy' scoring, cross validator 'cv', and error_score set to 'raise'\n",
        "m_scores = cross_val_score(model, X, y, scoring='accuracy', cv=cv, error_score='raise')\n",
        "\n",
        "# Print mean and standard deviation of m_scores: \n",
        "print('Baseline score: %.3f (%.3f)' % (mean(m_scores), std(m_scores)))"
      ],
      "execution_count": 12,
      "outputs": [
        {
          "output_type": "stream",
          "text": [
            "Baseline score: 0.699 (0.063)\n"
          ],
          "name": "stdout"
        }
      ]
    },
    {
      "cell_type": "markdown",
      "metadata": {
        "id": "GRUBiqqmtNA6",
        "colab_type": "text"
      },
      "source": [
        "## **Observation**\n",
        "- We want to do better than 70% with a Stacking Classifier to consider it an improvement over this baseline Decision Tree model."
      ]
    },
    {
      "cell_type": "markdown",
      "metadata": {
        "colab_type": "text",
        "id": "BMYfcKeDY85K"
      },
      "source": [
        "## **Getting started with Stacking Classifier**\n",
        "\n",
        "- We're going to compare several additional baseline classifiers to see if they perform better than the Decision Tree Classifier we just trained previously.\n"
      ]
    },
    {
      "cell_type": "markdown",
      "metadata": {
        "id": "T2pwEXnQBEFf",
        "colab_type": "text"
      },
      "source": [
        "<p align=\"center\">\n",
        "<img src=\"https://github.com/datacamp/Applied-Machine-Learning-Ensemble-Modeling-live-training/blob/master/assets/stacking.png?raw=True\" alt = \"Stacking\" width=\"90%\">\n",
        "</p>\n",
        "<br><br>\n",
        "\n",
        "- We'll start by importing additional packages that we'll need."
      ]
    },
    {
      "cell_type": "code",
      "metadata": {
        "id": "eHCHmx7k5NeT",
        "colab_type": "code",
        "colab": {}
      },
      "source": [
        "# Import several other classifiers for ensemble\n",
        "from sklearn.neighbors import KNeighborsClassifier\n",
        "from sklearn.svm import SVC\n",
        "from sklearn.naive_bayes import GaussianNB\n",
        "from sklearn.linear_model import LogisticRegression\n",
        "from sklearn.ensemble import StackingClassifier"
      ],
      "execution_count": 6,
      "outputs": []
    },
    {
      "cell_type": "markdown",
      "metadata": {
        "id": "teQMB0aWxhcN",
        "colab_type": "text"
      },
      "source": [
        "## Create custom functions\n",
        "1. get_stacking() - This function will create the layers of our `StackingClassifier()`.\n",
        "2. get_models() - This function will create a dictionary of models to be evaluated.\n",
        "3. evaluate_model() - This function will evaluate each of the models to be compared."
      ]
    },
    {
      "cell_type": "markdown",
      "metadata": {
        "id": "wqtHxQFPvMqu",
        "colab_type": "text"
      },
      "source": [
        "## Custom function # 1: get_stacking()\n",
        "1. `StackingClassifier()` arguments:\n",
        " - `estimators`: List of baseline classifiers\n",
        " - `final_estimator`: Defined meta classifier \n",
        " - `cv`: Number of cross validations to perform."
      ]
    },
    {
      "cell_type": "code",
      "metadata": {
        "id": "YFhBv6jR6FOe",
        "colab_type": "code",
        "colab": {}
      },
      "source": [
        "# Define get_stacking():\n",
        "def get_stacking():\n",
        "\n",
        "\t# Create an empty list for the base models called layer1\n",
        "  layer1 = list()\n",
        "\n",
        "  # Append tuple with classifier name and instantiations (no arguments) for DecisionTreeClassifier, KNeighborsClassifier, SVC, and GaussianNB base models\n",
        "  # Hint: layer1.append(('ModelName', Classifier()))\n",
        "  layer1.append(('DT', DecisionTreeClassifier()))\n",
        "  layer1.append(('KNN', KNeighborsClassifier()))\n",
        "  layer1.append(('SVM', SVC()))\n",
        "  layer1.append(('Bayes', GaussianNB()))\n",
        "\n",
        "  # Instantiate Logistic Regression as meta learner model called layer2\n",
        "  layer2 = LogisticRegression()\n",
        "\n",
        "\t# Define StackingClassifier() called model passing layer1 model list and meta learner with 5 cross-validations\n",
        "  model = StackingClassifier(estimators=layer1, final_estimator=layer2, cv=5)\n",
        "\n",
        "  # return model\n",
        "  return model"
      ],
      "execution_count": 7,
      "outputs": []
    },
    {
      "cell_type": "markdown",
      "metadata": {
        "id": "d5szw9liyaxp",
        "colab_type": "text"
      },
      "source": [
        "## Custom function # 2: get_models()"
      ]
    },
    {
      "cell_type": "code",
      "metadata": {
        "id": "0hEJlDLB4kv5",
        "colab_type": "code",
        "colab": {}
      },
      "source": [
        "# Define get_models():\n",
        "def get_models():\n",
        "\n",
        "  # Create empty dictionary called models\n",
        "  models = dict()\n",
        "\n",
        "  # Add key:value pairs to dictionary with key as ModelName and value as instantiations (no arguments) for DecisionTreeClassifier, KNeighborsClassifier, SVC, and GaussianNB base models\n",
        "  # Hint: models['ModelName'] = Classifier()\n",
        "  models['DT'] = DecisionTreeClassifier()\n",
        "  models['KNN'] = KNeighborsClassifier()\n",
        "  models['SVM'] = SVC()\n",
        "  models['Bayes'] = GaussianNB()\n",
        "\n",
        "  # Add key:value pair to dictionary with key called Stacking and value that calls get_stacking() custom function\n",
        "  models['Stacking'] = get_stacking()\n",
        "\n",
        "  # return dictionary\n",
        "  return models"
      ],
      "execution_count": 8,
      "outputs": []
    },
    {
      "cell_type": "markdown",
      "metadata": {
        "id": "flSG4dH1zCTK",
        "colab_type": "text"
      },
      "source": [
        "## Custom function # 3: evaluate_model(model)"
      ]
    },
    {
      "cell_type": "code",
      "metadata": {
        "id": "mGLKRr0j5Nit",
        "colab_type": "code",
        "colab": {}
      },
      "source": [
        "# Define evaluate_model:\n",
        "def evaluate_model(model):\n",
        "\n",
        "  # Create RepeatedStratifiedKFold cross-validator with 10 folds, 3 repeats and a seed of 42.\n",
        "  cv = RepeatedStratifiedKFold(n_splits=10, n_repeats=3, random_state=42)\n",
        "\n",
        "  # Calculate accuracy using `cross_val_score()` with model instantiated, data to fit, target variable, 'accuracy' scoring, cross validator 'cv', n_jobs=-1, and error_score set to 'raise'\n",
        "  scores = cross_val_score(model, X, y, scoring='accuracy', cv=cv, n_jobs=-1, error_score='raise')\n",
        "\n",
        "  # return scores\n",
        "  return scores"
      ],
      "execution_count": 9,
      "outputs": []
    },
    {
      "cell_type": "code",
      "metadata": {
        "id": "Y5wmC-TH7B7E",
        "colab_type": "code",
        "colab": {}
      },
      "source": [
        "# Assign get_models() to a variable called models\n",
        "models = get_models()"
      ],
      "execution_count": 10,
      "outputs": []
    },
    {
      "cell_type": "markdown",
      "metadata": {
        "id": "02tyK34l2eh7",
        "colab_type": "text"
      },
      "source": [
        "## Python Dictionary Review:\n",
        "- The items() method is used to return the list with all dictionary keys with values. Parameters: This method takes no parameters. Returns: A view object that displays a list of a given dictionary's (key, value) tuple pair.\n",
        "- For our purposes, we'll use the dictionary created when we call the get_models() custom function in a for loop to iterate over each key:value pair and store the results.\n",
        "- Then, we will plot the results as a `boxplot` for comparison using `seaborn`.\n",
        "\n",
        "1. `sns.boxplot()` arguments:\n",
        " - `x`: Names of the variables in the data\n",
        " - `y`: Names of the variables in the data\n",
        " - `showmeans`: Whether or not to show mark at the mean of the data."
      ]
    },
    {
      "cell_type": "code",
      "metadata": {
        "id": "QzXmYt1o6FWh",
        "colab_type": "code",
        "colab": {
          "base_uri": "https://localhost:8080/",
          "height": 366
        },
        "outputId": "02452d01-cb00-4a6c-a939-e42c6a1a4d58"
      },
      "source": [
        "# Evaluate the models and store results\n",
        "# Create an empty list for the results\n",
        "results = list()\n",
        "\n",
        "# Create an empty list for the model names\n",
        "names = list()\n",
        "\n",
        "# Create a for loop that iterates over each name, model in models dictionary \n",
        "for name, model in models.items():\n",
        "\n",
        "\t# Call evaluate_model(model) and assign it to variable called scores\n",
        "\tscores = evaluate_model(model)\n",
        " \n",
        "  # Append output from scores to the results list\n",
        "\tresults.append(scores)\n",
        " \n",
        "  # Append name to the names list\n",
        "\tnames.append(name)\n",
        " \n",
        "  # Print name, mean and standard deviation of scores:\n",
        "\tprint('>%s %.3f (%.3f)' % (name, mean(scores), std(scores)))\n",
        " \n",
        "# Plot model performance for comparison using names for x and results for y and setting showmeans to True\n",
        "sns.boxplot(x=names, y=results, showmeans=True)"
      ],
      "execution_count": 11,
      "outputs": [
        {
          "output_type": "stream",
          "text": [
            ">DT 0.705 (0.043)\n",
            ">KNN 0.713 (0.058)\n",
            ">SVM 0.759 (0.045)\n",
            ">Bayes 0.760 (0.049)\n",
            ">Stacking 0.763 (0.043)\n"
          ],
          "name": "stdout"
        },
        {
          "output_type": "execute_result",
          "data": {
            "text/plain": [
              "<matplotlib.axes._subplots.AxesSubplot at 0x7f1b37b04240>"
            ]
          },
          "metadata": {
            "tags": []
          },
          "execution_count": 11
        },
        {
          "output_type": "display_data",
          "data": {
            "image/png": "[encoded data removed]",
            "text/plain": [
              "<Figure size 432x288 with 1 Axes>"
            ]
          },
          "metadata": {
            "tags": [],
            "needs_background": "light"
          }
        }
      ]
    },
    {
      "cell_type": "markdown",
      "metadata": {
        "id": "xUqeWsol5RAt",
        "colab_type": "text"
      },
      "source": [
        "## **Observation**\n",
        "- Recall that we want to do better than 70% with a Stacking Classifier to consider it an improvement over the Decision Tree baseline model and, although we did achieve that, we can probably do even better with this dataset.  \n",
        "- Let's try some hyperparameter tuning via cross-validation next..."
      ]
    },
    {
      "cell_type": "markdown",
      "metadata": {
        "id": "xwc_6_Qf4amu",
        "colab_type": "text"
      },
      "source": [
        "---\n",
        "\n",
        "## Q&A\n",
        "\n",
        "--- \n"
      ]
    },
    {
      "cell_type": "code",
      "metadata": {
        "id": "yMZ8gTb6LGCP",
        "colab_type": "code",
        "colab": {}
      },
      "source": [
        "# Import additional libraries\n",
        "from xgboost import XGBClassifier \n",
        "from sklearn.ensemble import RandomForestClassifier\n",
        "from sklearn.preprocessing import StandardScaler\n",
        "from sklearn.pipeline import Pipeline\n",
        "from sklearn.model_selection import RandomizedSearchCV, GridSearchCV\n",
        "import xgboost as xgb\n",
        "from datetime import datetime"
      ],
      "execution_count": 16,
      "outputs": []
    },
    {
      "cell_type": "markdown",
      "metadata": {
        "id": "BfctBvrs4ZcQ",
        "colab_type": "text"
      },
      "source": [
        "## Custom function # 4: best_model(name, model)\n",
        "- We're going to create a Pipeline that scales the data before applying the parameter grid via cross-validation.\n",
        "- Then it returns the model with the best hyperparameters from the search grid for each model."
      ]
    },
    {
      "cell_type": "code",
      "metadata": {
        "id": "5RG7lpMY3Bzz",
        "colab_type": "code",
        "colab": {}
      },
      "source": [
        "# Define best_model:\n",
        "def best_model(name, model):\n",
        "  pipe = Pipeline([('scaler', StandardScaler()), ('classifier',model)])  \n",
        "\n",
        "  if name == 'SVM':\n",
        "    param_grid = {'classifier__kernel' : ['linear', 'poly', 'rbf', 'sigmoid', 'precomputed']} \n",
        "    # Create grid search object\n",
        "    # this uses k-fold cv\n",
        "    clf = GridSearchCV(pipe, param_grid = param_grid, cv = 5, n_jobs=-1)\n",
        "\n",
        "    # Fit on data\n",
        "    best_clf = clf.fit(X, y)\n",
        "\n",
        "    best_hyperparams = best_clf.best_estimator_.get_params()['classifier']\n",
        "\n",
        "    return name, best_hyperparams \n",
        "\n",
        "  if name == 'Bayes': \n",
        "    param_grid = {'classifier__var_smoothing' : np.array([1e-09, 1e-08])} \n",
        "    # Create grid search object\n",
        "    # this uses k-fold cv\n",
        "\n",
        "    clf = GridSearchCV(pipe, param_grid = param_grid, cv = 5, n_jobs=-1)\n",
        "\n",
        "    # Fit on data\n",
        "    best_clf = clf.fit(X, y)\n",
        "\n",
        "    best_hyperparams = best_clf.best_estimator_.get_params()['classifier']\n",
        "\n",
        "    return name, best_hyperparams \n",
        "\n",
        "  if name == 'RF': \n",
        "    param_grid = {'classifier__criterion' : np.array(['gini', 'entropy']),\n",
        "                  'classifier__max_depth' : np.arange(5,11)} \n",
        "    # Create grid search object\n",
        "    # this uses k-fold cv\n",
        "\n",
        "    clf = GridSearchCV(pipe, param_grid = param_grid, cv = 5, n_jobs=-1)\n",
        "\n",
        "    # Fit on data\n",
        "    best_clf = clf.fit(X, y)\n",
        "\n",
        "    best_hyperparams = best_clf.best_estimator_.get_params()['classifier']\n",
        " \n",
        "    return name, best_hyperparams  \n",
        "\n",
        "  if name == 'XGB':\n",
        "    param_grid = {'classifier__learning_rate' : np.arange(0.022,0.04,.01),\n",
        "                  'classifier__max_depth' : np.arange(5,10)} \n",
        "    # Create grid search object\n",
        "    # this uses k-fold cv\n",
        "    clf = GridSearchCV(pipe, param_grid = param_grid, cv = 5,  n_jobs=-1)\n",
        "\n",
        "    # Fit on data\n",
        "    best_clf = clf.fit(X, y)\n",
        "    best_hyperparams = best_clf.best_estimator_.get_params()['classifier']\n",
        "\n",
        "    return name, best_hyperparams  "
      ],
      "execution_count": 12,
      "outputs": []
    },
    {
      "cell_type": "markdown",
      "metadata": {
        "id": "8Ay2mPQo39mV",
        "colab_type": "text"
      },
      "source": [
        "## Adding Random Forest and XGBoost to our get_stacking() custom function in layer 1 (and removing the poorest performers DT and KNN):"
      ]
    },
    {
      "cell_type": "code",
      "metadata": {
        "id": "4ow6Aqaz27GJ",
        "colab_type": "code",
        "colab": {}
      },
      "source": [
        "# Define get_stacking():  \n",
        "def get_stacking():\n",
        "\n",
        "\t# Create an empty list for the base models called layer1\n",
        "  layer1 = list()\n",
        "\n",
        "  # Append tuple with classifier name and instantiations (no arguments) for SVC and GaussianNB base models AND call cust fx #4 best_model on each\n",
        "  # Hint: layer1.append((best_model('ModelName', Classifier())))\n",
        "  layer1.append((best_model('SVM', SVC())))\n",
        "  layer1.append((best_model('Bayes', GaussianNB())))\n",
        "  \n",
        "  # Add RandomForestClassifier and xgb.XGBClassifier as base models\n",
        "  layer1.append((best_model('RF', RandomForestClassifier())))\n",
        "  layer1.append((best_model('XGB', xgb.XGBClassifier())))\n",
        "\n",
        "  # Instantiate Logistic Regression as meta learner model called layer2\n",
        "  layer2 = LogisticRegression()\n",
        "\n",
        "\t# Define StackingClassifier() called model passing layer1 model list and meta learner with 5 cross-validations\n",
        "  model = StackingClassifier(estimators=layer1, final_estimator=layer2, cv=5)\n",
        "\n",
        "  # return model\n",
        "  return model"
      ],
      "execution_count": 13,
      "outputs": []
    },
    {
      "cell_type": "markdown",
      "metadata": {
        "id": "dbp5PICC4HEk",
        "colab_type": "text"
      },
      "source": [
        "## Adding Random Forest and XGBoost to our get_models() custom function:"
      ]
    },
    {
      "cell_type": "code",
      "metadata": {
        "id": "GQqQUH_P3Bto",
        "colab_type": "code",
        "colab": {}
      },
      "source": [
        "# Define get_models():\n",
        "def get_models():\n",
        "\n",
        "  # Create empty dictionary called models\n",
        "  models = dict()\n",
        "\n",
        "  # Add key:value pairs to dictionary with key as ModelName and value as instantiations (no arguments) for SVC and GaussianNB base models\n",
        "  # Hint: models['ModelName'] = Classifier() \n",
        "  models['SVM'] = SVC()\n",
        "  models['Bayes'] = GaussianNB()\n",
        "\n",
        "  # we'll add two more classifers to the mix - RandomForestClassifier and xgb.XGBClassifier\n",
        "  models['RF'] = RandomForestClassifier()\n",
        "  models['XGB'] = xgb.XGBClassifier()\n",
        "\n",
        "  # Add key:value pair to dictionary with key called Stacking and value that calls get_stacking() custom function\n",
        "  models['Stacking'] = get_stacking()\n",
        "\n",
        "  # return dictionary\n",
        "  return models"
      ],
      "execution_count": 14,
      "outputs": []
    },
    {
      "cell_type": "code",
      "metadata": {
        "id": "JVTYjSno3B3s",
        "colab_type": "code",
        "colab": {}
      },
      "source": [
        "# Assign get_models() to a variable called models\n",
        "models = get_models()"
      ],
      "execution_count": 17,
      "outputs": []
    },
    {
      "cell_type": "markdown",
      "metadata": {
        "id": "lNECWtJ74tZh",
        "colab_type": "text"
      },
      "source": [
        "## Custom function # 3: evaluate_model(model)"
      ]
    },
    {
      "cell_type": "code",
      "metadata": {
        "id": "TsTJZKNk3XWc",
        "colab_type": "code",
        "colab": {}
      },
      "source": [
        "# Define evaluate_model(model):\n",
        "def evaluate_model(model):\n",
        "\n",
        "  # Create RepeatedStratifiedKFold cross-validator with 10 folds, 3 repeats and a seed of 1.\n",
        "  cv = RepeatedStratifiedKFold(n_splits=10, n_repeats=3, random_state=1)\n",
        "\n",
        "  # Calculate accuracy using `cross_val_score()` with model instantiated, data to fit, target variable, 'accuracy' scoring, cross validator 'cv', n_jobs=-1, and error_score set to 'raise'\n",
        "  scores = cross_val_score(model, X, y, scoring='accuracy', cv=cv, n_jobs=-1, error_score='raise')\n",
        "\n",
        "  # return scores\n",
        "  return scores"
      ],
      "execution_count": null,
      "outputs": []
    },
    {
      "cell_type": "markdown",
      "metadata": {
        "id": "3CxRVSe_DGlI",
        "colab_type": "text"
      },
      "source": [
        "# 10 minute break while the following runs..."
      ]
    },
    {
      "cell_type": "code",
      "metadata": {
        "id": "rXrusVVBAbaJ",
        "colab_type": "code",
        "colab": {
          "base_uri": "https://localhost:8080/",
          "height": 366
        },
        "outputId": "fe7214a4-2033-488d-c24b-bf5fbc4d6881"
      },
      "source": [
        "# Evaluate the models and store results\n",
        "# Create an empty list for the results\n",
        "results = list()\n",
        "\n",
        "# Create an empty list for the model names\n",
        "names = list()\n",
        "\n",
        "# Create a for loop that iterates over each name, model in models dictionary \n",
        "for name, model in models.items():\n",
        "\n",
        "\t# Call evaluate_model(model) and assign it to variable called scores\n",
        "\tscores = evaluate_model(model)\n",
        " \n",
        "  # Append output from scores to the results list\n",
        "\tresults.append(scores)\n",
        " \n",
        "  # Append name to the names list\n",
        "\tnames.append(name)\n",
        " \n",
        "  # Print name, mean and standard deviation of scores:\n",
        "\tprint('>%s %.3f (%.3f)' % (name, mean(scores), std(scores)))\n",
        "\n",
        "# Plot model performance for comparison using names for x and results for y and setting showmeans to True\n",
        "sns.boxplot(x=names, y=results, showmeans=True )"
      ],
      "execution_count": 18,
      "outputs": [
        {
          "output_type": "stream",
          "text": [
            ">SVM 0.759 (0.045)\n",
            ">Bayes 0.760 (0.049)\n",
            ">RF 0.765 (0.048)\n",
            ">XGB 0.759 (0.053)\n",
            ">Stacking 0.763 (0.044)\n"
          ],
          "name": "stdout"
        },
        {
          "output_type": "execute_result",
          "data": {
            "text/plain": [
              "<matplotlib.axes._subplots.AxesSubplot at 0x7f1b266ce908>"
            ]
          },
          "metadata": {
            "tags": []
          },
          "execution_count": 18
        },
        {
          "output_type": "display_data",
          "data": {
            "image/png": "[encoded data removed]",
            "text/plain": [
              "<Figure size 432x288 with 1 Axes>"
            ]
          },
          "metadata": {
            "tags": [],
            "needs_background": "light"
          }
        }
      ]
    },
    {
      "cell_type": "markdown",
      "metadata": {
        "id": "uZlAHPaD419_",
        "colab_type": "text"
      },
      "source": [
        "## **Observation**\n",
        "- Before we added XGBoost and hyperparameter tuning, our Stacking Classifier got ~ 76% accuracy. \n",
        "- Here, we got just around 77% accuracy, a minor improvement, but an improvement nonetheless.\n",
        "- We could continue fiddling with other algorithms in layer 1\n",
        "- We could try other algorithms in layer 2.\n",
        "- We could add more hyperparameters to our parameter grid.\n",
        "- To this last point, keep in mind that the more parameters there are in a grid to search over, the longer it takes to train the Stacking Classifier."
      ]
    },
    {
      "cell_type": "markdown",
      "metadata": {
        "id": "lj8WeJR__bUo",
        "colab_type": "text"
      },
      "source": [
        "---\n",
        "\n",
        "## Q&A\n",
        "\n",
        "--- "
      ]
    },
    {
      "cell_type": "markdown",
      "metadata": {
        "id": "FPY3I2BlVxig",
        "colab_type": "text"
      },
      "source": [
        "# **Stacking Regressor**"
      ]
    },
    {
      "cell_type": "code",
      "metadata": {
        "id": "ftxDhyDq2lrH",
        "colab_type": "code",
        "colab": {}
      },
      "source": [
        "# Import libraries\n",
        "from sklearn.model_selection import RepeatedKFold\n",
        "from sklearn.dummy import DummyRegressor\n",
        "from sklearn.svm import SVR"
      ],
      "execution_count": 19,
      "outputs": []
    },
    {
      "cell_type": "markdown",
      "metadata": {
        "id": "nqDHD8A_nhPB",
        "colab_type": "text"
      },
      "source": [
        "## **2nd Dataset**\n",
        "\n",
        "\n",
        "The second dataset we'll use is a CSV file named `abalone.csv`, which contains data on physical measurements of abalone shells used to determine the age of the abalone.  It contains the following columns:\n",
        "\n",
        "- `Sex`: M, F, and I (infant) - (removed for our purposes)\n",
        "- `Length`: Longest shell measurement (mm)\n",
        "- `Diameter`: Perpendicular to length (mm)\n",
        "- `Height`: with meat in shell (mm)\n",
        "- `Whole weight`: whole abalone (grams)\n",
        "- `Shucked weight`: weight of meat (grams)\n",
        "- `Viscera weight`: gut weight (grams)\n",
        "- `Shell weight`: after being dried (grams)\n",
        "- `Rings`: +1.5 gives the age in years\n",
        "\n",
        "\t"
      ]
    },
    {
      "cell_type": "markdown",
      "metadata": {
        "id": "HwNnn3ZKrh1o",
        "colab_type": "text"
      },
      "source": [
        "### **Get the dataset**"
      ]
    },
    {
      "cell_type": "code",
      "metadata": {
        "id": "K4LeaM4PzyAh",
        "colab_type": "code",
        "colab": {}
      },
      "source": [
        "# Read in the dataset as Pandas DataFrame\n",
        "abalone = pd.read_csv('https://github.com/datacamp/Applied-Machine-Learning-Ensemble-Modeling-live-training/blob/master/data/abalone.csv?raw=true')"
      ],
      "execution_count": 20,
      "outputs": []
    },
    {
      "cell_type": "code",
      "metadata": {
        "id": "KfsmhIBdApVp",
        "colab_type": "code",
        "colab": {
          "base_uri": "https://localhost:8080/",
          "height": 286
        },
        "outputId": "e7163ac3-1e9b-4bf7-8b13-19b14c72c873"
      },
      "source": [
        "# Look at data using the info() function\n",
        "abalone.info()"
      ],
      "execution_count": 21,
      "outputs": [
        {
          "output_type": "stream",
          "text": [
            "<class 'pandas.core.frame.DataFrame'>\n",
            "RangeIndex: 4177 entries, 0 to 4176\n",
            "Data columns (total 9 columns):\n",
            " #   Column          Non-Null Count  Dtype  \n",
            "---  ------          --------------  -----  \n",
            " 0   Sex             4177 non-null   object \n",
            " 1   Length          4177 non-null   float64\n",
            " 2   Diameter        4177 non-null   float64\n",
            " 3   Height          4177 non-null   float64\n",
            " 4   Whole weight    4177 non-null   float64\n",
            " 5   Shucked weight  4177 non-null   float64\n",
            " 6   Viscera weight  4177 non-null   float64\n",
            " 7    Shell weight   4177 non-null   float64\n",
            " 8   Rings           4177 non-null   int64  \n",
            "dtypes: float64(7), int64(1), object(1)\n",
            "memory usage: 293.8+ KB\n"
          ],
          "name": "stdout"
        }
      ]
    },
    {
      "cell_type": "markdown",
      "metadata": {
        "id": "NZAeIFGwBhe6",
        "colab_type": "text"
      },
      "source": [
        "## **Observations:** \n",
        "- Here, there are no missing values.  Again, that is not typical.\n",
        "- There is a mixture of object, float, and integers with the first column being `object` (categorical), the next 7 `float64` and the last 'int64`."
      ]
    },
    {
      "cell_type": "code",
      "metadata": {
        "id": "8D4Gfh08Avb2",
        "colab_type": "code",
        "colab": {
          "base_uri": "https://localhost:8080/",
          "height": 284
        },
        "outputId": "d62af0c4-1dee-4da0-ee06-b2c0b488d0be"
      },
      "source": [
        "# Look at data using the describe() function\n",
        "abalone.describe()"
      ],
      "execution_count": 22,
      "outputs": [
        {
          "output_type": "execute_result",
          "data": {
            "text/html": [
              "<div>\n",
              "<style scoped>\n",
              "    .dataframe tbody tr th:only-of-type {\n",
              "        vertical-align: middle;\n",
              "    }\n",
              "\n",
              "    .dataframe tbody tr th {\n",
              "        vertical-align: top;\n",
              "    }\n",
              "\n",
              "    .dataframe thead th {\n",
              "        text-align: right;\n",
              "    }\n",
              "</style>\n",
              "<table border=\"1\" class=\"dataframe\">\n",
              "  <thead>\n",
              "    <tr style=\"text-align: right;\">\n",
              "      <th></th>\n",
              "      <th>Length</th>\n",
              "      <th>Diameter</th>\n",
              "      <th>Height</th>\n",
              "      <th>Whole weight</th>\n",
              "      <th>Shucked weight</th>\n",
              "      <th>Viscera weight</th>\n",
              "      <th>Shell weight</th>\n",
              "      <th>Rings</th>\n",
              "    </tr>\n",
              "  </thead>\n",
              "  <tbody>\n",
              "    <tr>\n",
              "      <th>count</th>\n",
              "      <td>4177.000000</td>\n",
              "      <td>4177.000000</td>\n",
              "      <td>4177.000000</td>\n",
              "      <td>4177.000000</td>\n",
              "      <td>4177.000000</td>\n",
              "      <td>4177.000000</td>\n",
              "      <td>4177.000000</td>\n",
              "      <td>4177.000000</td>\n",
              "    </tr>\n",
              "    <tr>\n",
              "      <th>mean</th>\n",
              "      <td>0.523992</td>\n",
              "      <td>0.407881</td>\n",
              "      <td>0.139516</td>\n",
              "      <td>0.828742</td>\n",
              "      <td>0.359367</td>\n",
              "      <td>0.180594</td>\n",
              "      <td>0.238831</td>\n",
              "      <td>9.933684</td>\n",
              "    </tr>\n",
              "    <tr>\n",
              "      <th>std</th>\n",
              "      <td>0.120093</td>\n",
              "      <td>0.099240</td>\n",
              "      <td>0.041827</td>\n",
              "      <td>0.490389</td>\n",
              "      <td>0.221963</td>\n",
              "      <td>0.109614</td>\n",
              "      <td>0.139203</td>\n",
              "      <td>3.224169</td>\n",
              "    </tr>\n",
              "    <tr>\n",
              "      <th>min</th>\n",
              "      <td>0.075000</td>\n",
              "      <td>0.055000</td>\n",
              "      <td>0.000000</td>\n",
              "      <td>0.002000</td>\n",
              "      <td>0.001000</td>\n",
              "      <td>0.000500</td>\n",
              "      <td>0.001500</td>\n",
              "      <td>1.000000</td>\n",
              "    </tr>\n",
              "    <tr>\n",
              "      <th>25%</th>\n",
              "      <td>0.450000</td>\n",
              "      <td>0.350000</td>\n",
              "      <td>0.115000</td>\n",
              "      <td>0.441500</td>\n",
              "      <td>0.186000</td>\n",
              "      <td>0.093500</td>\n",
              "      <td>0.130000</td>\n",
              "      <td>8.000000</td>\n",
              "    </tr>\n",
              "    <tr>\n",
              "      <th>50%</th>\n",
              "      <td>0.545000</td>\n",
              "      <td>0.425000</td>\n",
              "      <td>0.140000</td>\n",
              "      <td>0.799500</td>\n",
              "      <td>0.336000</td>\n",
              "      <td>0.171000</td>\n",
              "      <td>0.234000</td>\n",
              "      <td>9.000000</td>\n",
              "    </tr>\n",
              "    <tr>\n",
              "      <th>75%</th>\n",
              "      <td>0.615000</td>\n",
              "      <td>0.480000</td>\n",
              "      <td>0.165000</td>\n",
              "      <td>1.153000</td>\n",
              "      <td>0.502000</td>\n",
              "      <td>0.253000</td>\n",
              "      <td>0.329000</td>\n",
              "      <td>11.000000</td>\n",
              "    </tr>\n",
              "    <tr>\n",
              "      <th>max</th>\n",
              "      <td>0.815000</td>\n",
              "      <td>0.650000</td>\n",
              "      <td>1.130000</td>\n",
              "      <td>2.825500</td>\n",
              "      <td>1.488000</td>\n",
              "      <td>0.760000</td>\n",
              "      <td>1.005000</td>\n",
              "      <td>29.000000</td>\n",
              "    </tr>\n",
              "  </tbody>\n",
              "</table>\n",
              "</div>"
            ],
            "text/plain": [
              "            Length     Diameter  ...   Shell weight        Rings\n",
              "count  4177.000000  4177.000000  ...    4177.000000  4177.000000\n",
              "mean      0.523992     0.407881  ...       0.238831     9.933684\n",
              "std       0.120093     0.099240  ...       0.139203     3.224169\n",
              "min       0.075000     0.055000  ...       0.001500     1.000000\n",
              "25%       0.450000     0.350000  ...       0.130000     8.000000\n",
              "50%       0.545000     0.425000  ...       0.234000     9.000000\n",
              "75%       0.615000     0.480000  ...       0.329000    11.000000\n",
              "max       0.815000     0.650000  ...       1.005000    29.000000\n",
              "\n",
              "[8 rows x 8 columns]"
            ]
          },
          "metadata": {
            "tags": []
          },
          "execution_count": 22
        }
      ]
    },
    {
      "cell_type": "markdown",
      "metadata": {
        "id": "WDGc7PPBBkGX",
        "colab_type": "text"
      },
      "source": [
        "## **Observations:** \n",
        "- Notice that the min of the `Height` column is zero.  Even though there are no missing values, this is indicative of the measurements for that feature having not been captured.\n",
        "- Again, the printout makes it appear as if all numeric values are float.  \n",
        "\n"
      ]
    },
    {
      "cell_type": "code",
      "metadata": {
        "id": "FVGtuWoDAvl2",
        "colab_type": "code",
        "colab": {
          "base_uri": "https://localhost:8080/",
          "height": 195
        },
        "outputId": "4b46a286-b3cc-4775-e64f-9b3ec947d3a2"
      },
      "source": [
        "# Print the first 5 rows of the data using the head() function\n",
        "abalone.head()"
      ],
      "execution_count": 23,
      "outputs": [
        {
          "output_type": "execute_result",
          "data": {
            "text/html": [
              "<div>\n",
              "<style scoped>\n",
              "    .dataframe tbody tr th:only-of-type {\n",
              "        vertical-align: middle;\n",
              "    }\n",
              "\n",
              "    .dataframe tbody tr th {\n",
              "        vertical-align: top;\n",
              "    }\n",
              "\n",
              "    .dataframe thead th {\n",
              "        text-align: right;\n",
              "    }\n",
              "</style>\n",
              "<table border=\"1\" class=\"dataframe\">\n",
              "  <thead>\n",
              "    <tr style=\"text-align: right;\">\n",
              "      <th></th>\n",
              "      <th>Sex</th>\n",
              "      <th>Length</th>\n",
              "      <th>Diameter</th>\n",
              "      <th>Height</th>\n",
              "      <th>Whole weight</th>\n",
              "      <th>Shucked weight</th>\n",
              "      <th>Viscera weight</th>\n",
              "      <th>Shell weight</th>\n",
              "      <th>Rings</th>\n",
              "    </tr>\n",
              "  </thead>\n",
              "  <tbody>\n",
              "    <tr>\n",
              "      <th>0</th>\n",
              "      <td>M</td>\n",
              "      <td>0.455</td>\n",
              "      <td>0.365</td>\n",
              "      <td>0.095</td>\n",
              "      <td>0.5140</td>\n",
              "      <td>0.2245</td>\n",
              "      <td>0.1010</td>\n",
              "      <td>0.150</td>\n",
              "      <td>15</td>\n",
              "    </tr>\n",
              "    <tr>\n",
              "      <th>1</th>\n",
              "      <td>M</td>\n",
              "      <td>0.350</td>\n",
              "      <td>0.265</td>\n",
              "      <td>0.090</td>\n",
              "      <td>0.2255</td>\n",
              "      <td>0.0995</td>\n",
              "      <td>0.0485</td>\n",
              "      <td>0.070</td>\n",
              "      <td>7</td>\n",
              "    </tr>\n",
              "    <tr>\n",
              "      <th>2</th>\n",
              "      <td>F</td>\n",
              "      <td>0.530</td>\n",
              "      <td>0.420</td>\n",
              "      <td>0.135</td>\n",
              "      <td>0.6770</td>\n",
              "      <td>0.2565</td>\n",
              "      <td>0.1415</td>\n",
              "      <td>0.210</td>\n",
              "      <td>9</td>\n",
              "    </tr>\n",
              "    <tr>\n",
              "      <th>3</th>\n",
              "      <td>M</td>\n",
              "      <td>0.440</td>\n",
              "      <td>0.365</td>\n",
              "      <td>0.125</td>\n",
              "      <td>0.5160</td>\n",
              "      <td>0.2155</td>\n",
              "      <td>0.1140</td>\n",
              "      <td>0.155</td>\n",
              "      <td>10</td>\n",
              "    </tr>\n",
              "    <tr>\n",
              "      <th>4</th>\n",
              "      <td>I</td>\n",
              "      <td>0.330</td>\n",
              "      <td>0.255</td>\n",
              "      <td>0.080</td>\n",
              "      <td>0.2050</td>\n",
              "      <td>0.0895</td>\n",
              "      <td>0.0395</td>\n",
              "      <td>0.055</td>\n",
              "      <td>7</td>\n",
              "    </tr>\n",
              "  </tbody>\n",
              "</table>\n",
              "</div>"
            ],
            "text/plain": [
              "  Sex  Length  Diameter  ...  Viscera weight   Shell weight  Rings\n",
              "0   M   0.455     0.365  ...          0.1010          0.150     15\n",
              "1   M   0.350     0.265  ...          0.0485          0.070      7\n",
              "2   F   0.530     0.420  ...          0.1415          0.210      9\n",
              "3   M   0.440     0.365  ...          0.1140          0.155     10\n",
              "4   I   0.330     0.255  ...          0.0395          0.055      7\n",
              "\n",
              "[5 rows x 9 columns]"
            ]
          },
          "metadata": {
            "tags": []
          },
          "execution_count": 23
        }
      ]
    },
    {
      "cell_type": "markdown",
      "metadata": {
        "id": "wnmVoSl8BmMY",
        "colab_type": "text"
      },
      "source": [
        "## **Observation:**\n",
        "- Printing out the first 5 rows, we see that the 1st column is the only non-numeric feature in this dataset and is aligned with the `object` datatype as we saw above when we called `.info()`."
      ]
    },
    {
      "cell_type": "code",
      "metadata": {
        "id": "xPfVhWzRrm_w",
        "colab_type": "code",
        "colab": {
          "base_uri": "https://localhost:8080/",
          "height": 34
        },
        "outputId": "9c9d0b45-373d-42e5-fae5-01a94f90f40c"
      },
      "source": [
        "# Convert Pandas DataFrame to numpy array - Return only the values of the DataFrame with DataFrame.to_numpy()\n",
        "abalone = abalone.to_numpy()\n",
        "\n",
        "# Create X matrix and y (target) array using slicing [row_start:row_end, 1:target_col],[row_start:row_end, target_col] - Removing 1st column by starting at index 1\n",
        "X, y = abalone[:, 1:-1], abalone[:,-1]\n",
        "\n",
        "# Print X matrix and y (target) array dimensions using .shape\n",
        "print('Shape: %s, %s' % (X.shape, y.shape))"
      ],
      "execution_count": 24,
      "outputs": [
        {
          "output_type": "stream",
          "text": [
            "Shape: (4177, 7), (4177,)\n"
          ],
          "name": "stdout"
        }
      ]
    },
    {
      "cell_type": "code",
      "metadata": {
        "id": "fZ6CHfsVrpE7",
        "colab_type": "code",
        "colab": {}
      },
      "source": [
        "# Convert y (target) array to 'float32' using .astype()\n",
        "y = y.astype('float32')"
      ],
      "execution_count": 25,
      "outputs": []
    },
    {
      "cell_type": "markdown",
      "metadata": {
        "id": "7bYvtBfSF7k7",
        "colab_type": "text"
      },
      "source": [
        "## **Creating a Naive Regressor**\n",
        "Here we'll use the `DummyRegressor` from `sklearn`.  This creates a so-called 'naive' regressor and is simply a model that predicts a single value for all of the rows, regardless of their original value.  \n",
        "\n",
        "1. `DummyRegressor()` arguments:\n",
        " - `strategy`: Strategy to use to generate predictions.\n",
        "\n",
        "2. `RepeatedKFold()` arguments:\n",
        " - `n_splits`: Number of folds.\n",
        " - `n_repeats`: Number of times cross-validator needs to be repeated.\n",
        " - `random_state`: Controls the generation of the random states for each repetition. Pass an int for reproducible output across multiple function calls.  (This is an equivalent argument to np.random.seed above, but will be specific to this naive model.)\n",
        "\n",
        "3. `cross_val_score()` arguments:\n",
        " - The model to use.\n",
        " - The data to fit. (X)\n",
        " - The target variable to try to predict. (y)\n",
        " - `scoring`: A single string scorer callable object/function such as 'accuracy' or 'roc_auc'.  See https://scikit-learn.org/stable/modules/model_evaluation.html#scoring-parameter for more options.\n",
        " - `cv`: Cross-validation splitting strategy (default is 5)\n",
        " - `n_jobs`: Number of CPU cores used when parallelizing.  Set to -1 helps to avoid non-convergence errors.\n",
        " - `error_score`: Value to assign to the score if an error occurs in estimator fitting. If set to ‘raise’, the error is raised. If a numeric value is given, FitFailedWarning is raised."
      ]
    },
    {
      "cell_type": "code",
      "metadata": {
        "id": "jAJdcu_Hrrg8",
        "colab_type": "code",
        "colab": {
          "base_uri": "https://localhost:8080/",
          "height": 34
        },
        "outputId": "02f39f78-0ed2-4999-a1a4-06dca3bfbda7"
      },
      "source": [
        "# Evaluate naive\n",
        "\n",
        "# Instantiate a DummyRegressor with 'median' strategy\n",
        "naive = DummyRegressor(strategy='median')\n",
        "\n",
        "# Create RepeatedKFold cross-validator with 10 folds, 3 repeats and a seed of 1.\n",
        "cv = RepeatedKFold(n_splits=10, n_repeats=3, random_state=1)\n",
        "\n",
        "# Calculate accuracy using `cross_val_score()` with model instantiated, data to fit, target variable, 'neg_mean_absolute_error' scoring, cross validator, n_jobs=-1, and error_score set to 'raise'\n",
        "n_scores = cross_val_score(naive, X, y, scoring='neg_mean_absolute_error', cv=cv, n_jobs=-1, error_score='raise')\n",
        "\n",
        "# Print mean and standard deviation of n_scores:\n",
        "print('Baseline: %.3f (%.3f)' % (mean(n_scores), std(n_scores)))"
      ],
      "execution_count": 26,
      "outputs": [
        {
          "output_type": "stream",
          "text": [
            "Baseline: -2.372 (0.119)\n"
          ],
          "name": "stdout"
        }
      ]
    },
    {
      "cell_type": "markdown",
      "metadata": {
        "id": "dlYQmsCQHcdJ",
        "colab_type": "text"
      },
      "source": [
        "## **Observation** \n",
        "- We want to do better than -2.37 to consider any other models as an improvement to a totally naive regressor model with the Abalone dataset."
      ]
    },
    {
      "cell_type": "markdown",
      "metadata": {
        "id": "ZfiEdoUMHo-q",
        "colab_type": "text"
      },
      "source": [
        "## **Creating a Baseline Regressor**\n",
        "Now we'll create a baseline regressor, one that seeks to correctly predict the value for each observation.  Since the target variable is continuous, we'll instantiate a Support Vector Regression model.\n",
        "\n",
        "1. `SVR()` arguments:\n",
        " - `kernel`: Specifies the kernel type to be used in the algorithm.\n",
        " - `gamma`:  Kernel coefficient for ‘rbf’, ‘poly’ and ‘sigmoid’. \n",
        " - `C`: Regularization parameter. The strength of the regularization is inversely proportional to C. Must be strictly positive. The penalty is a squared l2 penalty."
      ]
    },
    {
      "cell_type": "code",
      "metadata": {
        "id": "cFip40FPrvOn",
        "colab_type": "code",
        "colab": {
          "base_uri": "https://localhost:8080/",
          "height": 34
        },
        "outputId": "366c0682-730c-4a76-e5d0-2624e60d9fa1"
      },
      "source": [
        "# Evaluate baseline model\n",
        "\n",
        "# Instantiate a Support Vector Regressor with 'rbf' kernel, gamma set to 'scale', and regularization parameter set to 10\n",
        "model = SVR(kernel='rbf', gamma='scale',C=10)\n",
        "\n",
        "# Calculate accuracy using `cross_val_score()` with model instantiated, data to fit, target variable, 'neg_mean_absolute_error' scoring, cross validator 'cv', n_jobs=-1, and error_score set to 'raise'\n",
        "m_scores = cross_val_score(model, X, y, scoring='neg_mean_absolute_error', cv=cv, n_jobs=-1, error_score='raise')\n",
        "\n",
        "# Print mean and standard deviation of m_scores: \n",
        "print('Good: %.3f (%.3f)' % (mean(m_scores), std(m_scores)))"
      ],
      "execution_count": 27,
      "outputs": [
        {
          "output_type": "stream",
          "text": [
            "Good: -1.483 (0.075)\n"
          ],
          "name": "stdout"
        }
      ]
    },
    {
      "cell_type": "markdown",
      "metadata": {
        "id": "Z_PMtVARKzBX",
        "colab_type": "text"
      },
      "source": [
        "## **Observation**\n",
        "- We want to do better than -1.48 with a Stacking Regressor to consider it an improvement over this baseline support vector regression model with the Abalone dataset."
      ]
    },
    {
      "cell_type": "markdown",
      "metadata": {
        "id": "J-OGF_7bupzn",
        "colab_type": "text"
      },
      "source": [
        "## **Getting started with Stacking Regressor**\n",
        "- We're going to compare several additional baseline regressors to see if they perform better than SVR we just trained previously.\n",
        "- We'll start by importing additional packages that we'll need."
      ]
    },
    {
      "cell_type": "code",
      "metadata": {
        "id": "jxbxTPkPrkNb",
        "colab_type": "code",
        "colab": {}
      },
      "source": [
        "# Compare machine learning models for regression\n",
        "from sklearn.linear_model import LinearRegression\n",
        "from sklearn.neighbors import KNeighborsRegressor\n",
        "from sklearn.tree import DecisionTreeRegressor\n",
        "from sklearn.ensemble import StackingRegressor"
      ],
      "execution_count": 34,
      "outputs": []
    },
    {
      "cell_type": "markdown",
      "metadata": {
        "id": "yixxr2JLN9UP",
        "colab_type": "text"
      },
      "source": [
        "## Create custom functions\n",
        "1. get_stacking() - This function will create the layers of our `StackingRegressor()`.\n",
        "2. get_models() - This function will create a dictionary of models to be evaluated.\n",
        "3. evaluate_model() - This function will evaluate each of the models to be compared."
      ]
    },
    {
      "cell_type": "markdown",
      "metadata": {
        "id": "FdF239ZRN92B",
        "colab_type": "text"
      },
      "source": [
        "## Custom function # 1: get_stacking()\n",
        "1. `StackingRegressor()` arguments:\n",
        " - `estimators`: List of baseline regressors\n",
        " - `final_estimator`: Defined meta regressor \n",
        " - `cv`: Number of cross validations to perform."
      ]
    },
    {
      "cell_type": "code",
      "metadata": {
        "id": "qoRNxZSj72bZ",
        "colab_type": "code",
        "colab": {}
      },
      "source": [
        "# Define get_stacking():\n",
        "def get_stacking():\n",
        "\n",
        "\t# Create an empty list for the base models called layer1\n",
        "  layer1 = list()\n",
        "\n",
        "  # Append tuple with classifier name and instantiations (no arguments) for KNeighborsRegressor, DecisionTreeRegressor, and SVR base models\n",
        "  # Hint: layer1.append(('ModelName', Classifier()))\n",
        "  layer1.append(('KNN', KNeighborsRegressor()))\n",
        "  layer1.append(('DT', DecisionTreeRegressor()))\n",
        "  layer1.append(('SVM', SVR()))\n",
        "\n",
        "  # Instantiate Linear Regression as meta learner model called layer2\n",
        "  layer2 = LinearRegression()\n",
        "\n",
        "\t# Define StackingRegressor() called model passing layer1 model list and meta learner with 5 cross-validations\n",
        "  model = StackingRegressor(estimators=layer1, final_estimator=layer2, cv=5)\n",
        "\n",
        "  # return model\n",
        "  return model"
      ],
      "execution_count": 35,
      "outputs": []
    },
    {
      "cell_type": "markdown",
      "metadata": {
        "id": "KClsJExROLAZ",
        "colab_type": "text"
      },
      "source": [
        "## Custom function # 2: get_models()"
      ]
    },
    {
      "cell_type": "code",
      "metadata": {
        "id": "PtYbhE_ps4yo",
        "colab_type": "code",
        "colab": {}
      },
      "source": [
        "# Define get_models():\n",
        "def get_models():\n",
        "\n",
        "  # Create empty dictionary called models\n",
        "  models = dict()\n",
        "\n",
        "  # Add key:value pairs to dictionary with key as ModelName and value as instantiations (no arguments) for KNeighborsRegressor, DecisionTreeRegressor, and SVR base models\n",
        "  # Hint: models['ModelName'] = Classifier()\n",
        "  models['KNN'] = KNeighborsRegressor()\n",
        "  models['DT'] = DecisionTreeRegressor()\n",
        "  models['SVM'] = SVR()\n",
        "\n",
        "  # Add key:value pair to dictionary with key called Stacking and value that calls get_stacking() custom function\n",
        "  models['Stacking'] = get_stacking()\n",
        "\n",
        "  # return dictionary\n",
        "  return models"
      ],
      "execution_count": 30,
      "outputs": []
    },
    {
      "cell_type": "markdown",
      "metadata": {
        "id": "SYH3KcjcOc56",
        "colab_type": "text"
      },
      "source": [
        "## Custom function # 3: evaluate_model(model)"
      ]
    },
    {
      "cell_type": "code",
      "metadata": {
        "id": "H95M82gks6EL",
        "colab_type": "code",
        "colab": {}
      },
      "source": [
        "# Define evaluate_model:\n",
        "def evaluate_model(model):\n",
        "\n",
        "  # Create RepeatedKFold cross-validator with 10 folds, 3 repeats and a seed of 1.\n",
        "\tcv = RepeatedKFold(n_splits=10,n_repeats=3,random_state=1)\n",
        " \n",
        "  # Calculate accuracy using `cross_val_score()` with model instantiated, data to fit, target variable, 'neg_mean_absolute_error' scoring, cross validator 'cv', n_jobs=-1, and error_score set to 'raise'\n",
        "\tscores = cross_val_score(model,X, y, scoring='neg_mean_absolute_error',cv=cv,n_jobs=-1,error_score='raise')\n",
        " \n",
        "  # return scores\n",
        "\treturn scores"
      ],
      "execution_count": 31,
      "outputs": []
    },
    {
      "cell_type": "code",
      "metadata": {
        "id": "2C6Hw-wj56eK",
        "colab_type": "code",
        "colab": {}
      },
      "source": [
        "# Assign get_models() to a variable called models\n",
        "models = get_models()"
      ],
      "execution_count": 36,
      "outputs": []
    },
    {
      "cell_type": "code",
      "metadata": {
        "id": "BZl3DjmU58Lm",
        "colab_type": "code",
        "colab": {
          "base_uri": "https://localhost:8080/",
          "height": 349
        },
        "outputId": "d5c36db5-7b01-4190-f0bd-418937cdd45b"
      },
      "source": [
        "# Evaluate the models and store results\n",
        "# Create an empty list for the results\n",
        "results = list()\n",
        "\n",
        "# Create an empty list for the model names\n",
        "names = list()\n",
        "\n",
        "# Create a for loop that iterates over each name, model in models dictionary \n",
        "for name, model in models.items():\n",
        "\n",
        "\t# Call evaluate_model(model) and assign it to variable called scores\n",
        "\tscores = evaluate_model(model)\n",
        " \n",
        "  # Append output from scores to the results list\n",
        "\tresults.append(scores)\n",
        " \n",
        "  # Append name to the names list\n",
        "\tnames.append(name)\n",
        " \n",
        "  # Print name, mean and standard deviation of scores:\n",
        "\tprint('>%s %.3f (%.3f)' % (name, mean(scores), std(scores)))\n",
        " \n",
        "# Plot model performance for comparison using names for x and results for y and setting showmeans to True\n",
        "sns.boxplot(x=names, y=results, showmeans=True)"
      ],
      "execution_count": 37,
      "outputs": [
        {
          "output_type": "stream",
          "text": [
            ">KNN -1.597 (0.064)\n",
            ">DT -2.105 (0.114)\n",
            ">SVM -1.518 (0.077)\n",
            ">Stacking -1.537 (0.069)\n"
          ],
          "name": "stdout"
        },
        {
          "output_type": "execute_result",
          "data": {
            "text/plain": [
              "<matplotlib.axes._subplots.AxesSubplot at 0x7f1b26321710>"
            ]
          },
          "metadata": {
            "tags": []
          },
          "execution_count": 37
        },
        {
          "output_type": "display_data",
          "data": {
            "image/png": "[encoded data removed]",
            "text/plain": [
              "<Figure size 432x288 with 1 Axes>"
            ]
          },
          "metadata": {
            "tags": [],
            "needs_background": "light"
          }
        }
      ]
    },
    {
      "cell_type": "markdown",
      "metadata": {
        "id": "d6EKNBV1UOuG",
        "colab_type": "text"
      },
      "source": [
        "## **Observation**\n",
        "- Recall that we want to do better than -1.48  with a Stacking Regressor to consider it an improvement over this baseline SVR and, although close, we did not achieve that with this dataset.\n",
        "- So what else can try to improve our results with stacking?\n",
        "\n",
        "### We'll add another layer to the mix..."
      ]
    },
    {
      "cell_type": "markdown",
      "metadata": {
        "id": "N9DZ7iyZFxXo",
        "colab_type": "text"
      },
      "source": [
        "## **Double Stacking - 2 Layers**\n",
        "- Can get a little tricky\n",
        "- Just make sure that you name your layers VERY CLEARLY!\n",
        "- Both the last layer (here it's layer 3) and the stacking model will use a call to `StackingRegressor()`\n",
        "- The last layer will combine the 2nd layer with the final estimator while the model will combine the 1st layer with this last layer.\n",
        "\n",
        "<p align=\"center\">\n",
        "<img src=\"https://github.com/datacamp/Applied-Machine-Learning-Ensemble-Modeling-live-training/blob/master/assets/DoubleStacking.png?raw=True\" alt = \"Double Stacking\" width=\"90%\">\n",
        "</p>\n",
        "<br><br>"
      ]
    },
    {
      "cell_type": "code",
      "metadata": {
        "id": "fXvUmmQQF6vq",
        "colab_type": "code",
        "colab": {}
      },
      "source": [
        "# Define get_stacking() - adding another layer:\n",
        "def get_stacking():\n",
        "\n",
        "\t# Create an empty list for the 1st layer of base models called layer1\n",
        "  layer1 = list()\n",
        "\n",
        "  # Create an empty list for the 2nd layer of base models called layer2\n",
        "  layer2 = list()\n",
        "\n",
        "  # Append tuple with classifier name and instantiations (no arguments) for KNeighborsRegressor, DecisionTreeRegressor, and SVR base models\n",
        "  # Hint: layer1.append(('ModelName', Regressor()))\n",
        "  layer1.append(('KNN', KNeighborsRegressor()))\n",
        "  layer1.append(('DT', DecisionTreeRegressor()))\n",
        "  layer1.append(('SVM', SVR()))\n",
        "\n",
        "  # Append tuple with classifier name and instantiations (no arguments) for KNeighborsRegressor, DecisionTreeRegressor, and SVR base models\n",
        "  # Hint: layer2.append(('ModelName', Regressor()))\n",
        "  layer2.append(('KNN', KNeighborsRegressor()))\n",
        "  layer2.append(('DT', DecisionTreeRegressor()))\n",
        "  layer2.append(('SVM', SVR()))\n",
        "\n",
        "\t# Define meta learner StackingRegressor() called layer3 passing layer2 model list to estimators, LinearRegression() to final_estimator with 5 cross-validations\n",
        "  layer3 = StackingRegressor(estimators=layer2, final_estimator=LinearRegression(), cv=5)\n",
        "\n",
        "\t# Define StackingRegressor() called model passing layer1 model list to estimators and meta learner (layer3) to final_estimator with 5 cross-validations\n",
        "  model = StackingRegressor(estimators=layer1, final_estimator=layer3, cv=5)\n",
        "\n",
        "  # return model\n",
        "  return model"
      ],
      "execution_count": 46,
      "outputs": []
    },
    {
      "cell_type": "code",
      "metadata": {
        "id": "CnMMqOJ16Bft",
        "colab_type": "code",
        "colab": {}
      },
      "source": [
        "# Assign get_models() to a variable called models\n",
        "models = get_models()"
      ],
      "execution_count": 47,
      "outputs": []
    },
    {
      "cell_type": "code",
      "metadata": {
        "id": "kvzSjLOEIKUx",
        "colab_type": "code",
        "colab": {
          "base_uri": "https://localhost:8080/",
          "height": 349
        },
        "outputId": "2ca5495c-34a5-4680-8505-3957d6e36baf"
      },
      "source": [
        "# Evaluate the models and store results\n",
        "# Create an empty list for the results\n",
        "results = list()\n",
        "\n",
        "# Create an empty list for the model names\n",
        "names = list()\n",
        "\n",
        "# Create a for loop that iterates over each name, model in models dictionary \n",
        "for name, model  in models.items():\n",
        "\n",
        "\t# Call evaluate_model(model) and assign it to variable called scores\n",
        "\tscores = evaluate_model(model)\n",
        " \n",
        "  # Append output from scores to the results list\n",
        "\tresults.append(scores)\n",
        " \n",
        "  # Append name to the names list\n",
        "\tnames.append(name)\n",
        " \n",
        "  # Print name, mean and standard deviation of scores:\n",
        "\tprint('>%s %.3f (%.3f)' % (name, mean(scores), std(scores)))\n",
        " \n",
        "# Plot model performance for comparison using names for x and results for y and setting showmeans to True\n",
        "sns.boxplot(x=names, y=results, showmeans=True)"
      ],
      "execution_count": 48,
      "outputs": [
        {
          "output_type": "stream",
          "text": [
            ">KNN -1.597 (0.064)\n",
            ">DT -2.111 (0.109)\n",
            ">SVM -1.518 (0.077)\n",
            ">Stacking -1.545 (0.070)\n"
          ],
          "name": "stdout"
        },
        {
          "output_type": "execute_result",
          "data": {
            "text/plain": [
              "<matplotlib.axes._subplots.AxesSubplot at 0x7f1b2621da90>"
            ]
          },
          "metadata": {
            "tags": []
          },
          "execution_count": 48
        },
        {
          "output_type": "display_data",
          "data": {
            "image/png": "[encoded data removed]",
            "text/plain": [
              "<Figure size 432x288 with 1 Axes>"
            ]
          },
          "metadata": {
            "tags": [],
            "needs_background": "light"
          }
        }
      ]
    },
    {
      "cell_type": "markdown",
      "metadata": {
        "id": "ZMgN44SwcJPG",
        "colab_type": "text"
      },
      "source": [
        "## **Final Observation**\n",
        "- Adding a layer did not improve results.\n",
        "- Complexity does not always make a better model\n",
        "- Could try different base models to stack for both of the datasets and that may show improvements over baseline.\n",
        "- Generate polynomial features \n",
        "- Try sklearn feature selection\n",
        "- Try feature engineering - creating new features from existing ones (but remember to remove the original features to avoid multicollinearity)\n",
        "- Tune hyperparameters for grid search as previously with Stacking Classifier\n",
        "- When there is a tie between a baseline model and a stacked model, choose the simpler model!"
      ]
    },
    {
      "cell_type": "markdown",
      "metadata": {
        "id": "Z4iX02EkDujS",
        "colab_type": "text"
      },
      "source": [
        "---\n",
        "\n",
        "# Q&A\n",
        "\n",
        "---"
      ]
    },
    {
      "cell_type": "markdown",
      "metadata": {
        "id": "kNWB_J4QD0Ad",
        "colab_type": "text"
      },
      "source": [
        "# Back to the slides for wrap-up..."
      ]
    }
  ]
}